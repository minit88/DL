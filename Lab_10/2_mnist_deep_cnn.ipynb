{
  "nbformat": 4,
  "nbformat_minor": 0,
  "metadata": {
    "colab": {
      "provenance": [],
      "authorship_tag": "ABX9TyMO8YLZrsxt0VJs+m6URLPo",
      "include_colab_link": true
    },
    "kernelspec": {
      "name": "python3",
      "display_name": "Python 3"
    },
    "language_info": {
      "name": "python"
    }
  },
  "cells": [
    {
      "cell_type": "markdown",
      "metadata": {
        "id": "view-in-github",
        "colab_type": "text"
      },
      "source": [
        "<a href=\"https://colab.research.google.com/github/minit88/ML-DL/blob/main/Lab_10/2_mnist_deep_cnn.ipynb\" target=\"_parent\"><img src=\"https://colab.research.google.com/assets/colab-badge.svg\" alt=\"Open In Colab\"/></a>"
      ]
    },
    {
      "cell_type": "code",
      "execution_count": 17,
      "metadata": {
        "id": "Y8s5H_R7WH7g"
      },
      "outputs": [],
      "source": [
        "import torch\n",
        "import torchvision.datasets as dsets\n",
        "import torchvision.transforms as transforms\n",
        "import torch.nn as nn\n",
        "import torch.nn.init"
      ]
    },
    {
      "cell_type": "code",
      "source": [
        "device = 'cuda' if torch.cuda.is_available() else 'cpu'\n",
        "\n",
        "torch.manual_seed(777)\n",
        "if device =='cuda':\n",
        "  torch.cuda.manual_seed_all(777)"
      ],
      "metadata": {
        "id": "gwZWHg5oYHe0"
      },
      "execution_count": 18,
      "outputs": []
    },
    {
      "cell_type": "code",
      "source": [
        "# parameters\n",
        "learning_rate = 0.001\n",
        "training_epochs = 15\n",
        "batch_size=100"
      ],
      "metadata": {
        "id": "0P4YyqdhYXLw"
      },
      "execution_count": 19,
      "outputs": []
    },
    {
      "cell_type": "code",
      "source": [
        "mnist_train = dsets.MNIST(root='MNIST_data/',\n",
        "                          train=True,\n",
        "                          transform=transforms.ToTensor(),\n",
        "                          download=True)\n",
        "mnist_test = dsets.MNIST(root='MNIST_data/',\n",
        "                          train=False, # False 로 해야지 test가 들어옴\n",
        "                          transform=transforms.ToTensor(),\n",
        "                          download=True)"
      ],
      "metadata": {
        "id": "wjgF3L3rYhuQ"
      },
      "execution_count": 20,
      "outputs": []
    },
    {
      "cell_type": "code",
      "source": [
        "data_loader = torch.utils.data.DataLoader(dataset=mnist_train,\n",
        "                                          batch_size = batch_size,\n",
        "                                          shuffle=True,\n",
        "                                          drop_last = True)\n"
      ],
      "metadata": {
        "id": "l382NprmZHTe"
      },
      "execution_count": 21,
      "outputs": []
    },
    {
      "cell_type": "code",
      "source": [
        "class CNN(nn.Module):\n",
        "\n",
        "  def __init__(self):\n",
        "    super(CNN,self).__init__()\n",
        "    self.layer1 = nn.Sequential(nn.Conv2d(1,32,kernel_size=3,stride=1,padding=1),\n",
        "                                nn.ReLU(),\n",
        "                                nn.MaxPool2d(2)\n",
        "    )\n",
        "    self.layer2 = nn.Sequential(nn.Conv2d(32,64,kernel_size=3,stride=1,padding=1),\n",
        "                                nn.ReLU(),\n",
        "                                nn.MaxPool2d(2)\n",
        "    )\n",
        "    self.fc=nn.Linear(7*7*64,10,bias = True)\n",
        "    torch.nn.init.xavier_uniform_(self.fc.weight)# 레이어 초기화\n",
        "\n",
        "  def forward(self,x):\n",
        "    out = self.layer1(x)\n",
        "    out = self.layer2(out)\n",
        "\n",
        "    out = out.view(out.size(0),-1)\n",
        "    out = self.fc(out)\n",
        "    return out"
      ],
      "metadata": {
        "id": "tyEdbB9RZUPE"
      },
      "execution_count": 22,
      "outputs": []
    },
    {
      "cell_type": "code",
      "source": [
        "model=CNN().to(device)"
      ],
      "metadata": {
        "id": "rzjT_Rcqbkjs"
      },
      "execution_count": 23,
      "outputs": []
    },
    {
      "cell_type": "code",
      "source": [
        "criterion = nn.CrossEntropyLoss().to(device)\n",
        "optimizer = torch.optim.Adam(model.parameters(),lr= learning_rate)"
      ],
      "metadata": {
        "id": "LvAc-lGPbdh-"
      },
      "execution_count": 24,
      "outputs": []
    },
    {
      "cell_type": "code",
      "source": [
        "# training\n",
        "total_batch = len(data_loader) # 전체 배치사이즈가 몇인지를 알 수 있다\n",
        "print('Learning start')\n",
        "\n",
        "for epoch in range(training_epochs):\n",
        "  avg_cost = 0\n",
        "\n",
        "  for X,Y in data_loader: # X = image , Y = label\n",
        "    X = X.to(device) # cuda 연산진행\n",
        "    Y = Y.to(device) # cuda 연산진행\n",
        "\n",
        "    hypothesis = model(X)\n",
        "    cost = criterion(hypothesis,Y)\n",
        "\n",
        "\n",
        "    optimizer.zero_grad()\n",
        "    cost.backward()\n",
        "    optimizer.step()\n",
        "\n",
        "    avg_cost +=cost/total_batch\n",
        "\n",
        "  print('[Epoch:{}] cost = {}'.format(epoch+1,avg_cost))  \n",
        "print(\"Learing Finished\")"
      ],
      "metadata": {
        "colab": {
          "base_uri": "https://localhost:8080/"
        },
        "id": "8mR8XP-6cZw8",
        "outputId": "2ee35c0a-3dd8-47a0-b17e-e1d23e882e8f"
      },
      "execution_count": 26,
      "outputs": [
        {
          "output_type": "stream",
          "name": "stdout",
          "text": [
            "Learning start\n",
            "[Epoch:1] cost = 0.06304250657558441\n",
            "[Epoch:2] cost = 0.04638969898223877\n",
            "[Epoch:3] cost = 0.03748450055718422\n",
            "[Epoch:4] cost = 0.03143305703997612\n",
            "[Epoch:5] cost = 0.026136364787817\n",
            "[Epoch:6] cost = 0.022024285048246384\n",
            "[Epoch:7] cost = 0.018365776166319847\n",
            "[Epoch:8] cost = 0.016204392537474632\n",
            "[Epoch:9] cost = 0.013407928869128227\n",
            "[Epoch:10] cost = 0.010212686844170094\n",
            "[Epoch:11] cost = 0.009767561219632626\n",
            "[Epoch:12] cost = 0.008789300918579102\n",
            "[Epoch:13] cost = 0.0062956116162240505\n",
            "[Epoch:14] cost = 0.005553173832595348\n",
            "[Epoch:15] cost = 0.006873254664242268\n",
            "Learing Finished\n"
          ]
        }
      ]
    },
    {
      "cell_type": "code",
      "source": [
        "with torch.no_grad():\n",
        "  X_test = mnist_test.test_data.view(len(mnist_test),1,28,28).float().to(device)\n",
        "  Y_test = mnist_test.test_labels.to(device)\n",
        "  \n",
        "  prediction = model(X_test)\n",
        "  Correct_prediction = torch.argmax(prediction,1)==Y_test\n",
        "  accuracy = Correct_prediction.float().mean()\n",
        "  print('Accuracy:',accuracy.item())\n",
        "\n"
      ],
      "metadata": {
        "colab": {
          "base_uri": "https://localhost:8080/"
        },
        "id": "8yvZWpAjeplQ",
        "outputId": "463d68c9-4155-4ff9-fbb5-bc8261533570"
      },
      "execution_count": 30,
      "outputs": [
        {
          "output_type": "stream",
          "name": "stdout",
          "text": [
            "Accuracy: 0.9848999977111816\n"
          ]
        }
      ]
    }
  ]
}