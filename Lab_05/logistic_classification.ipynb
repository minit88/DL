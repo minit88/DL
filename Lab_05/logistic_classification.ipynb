{
  "nbformat": 4,
  "nbformat_minor": 0,
  "metadata": {
    "colab": {
      "provenance": [],
      "authorship_tag": "ABX9TyNXlLJZBOHnl0QWjsFFqrbF",
      "include_colab_link": true
    },
    "kernelspec": {
      "name": "python3",
      "display_name": "Python 3"
    },
    "language_info": {
      "name": "python"
    }
  },
  "cells": [
    {
      "cell_type": "markdown",
      "metadata": {
        "id": "view-in-github",
        "colab_type": "text"
      },
      "source": [
        "<a href=\"https://colab.research.google.com/github/minit88/ML-DL/blob/main/Lab_05/logistic_classification.ipynb\" target=\"_parent\"><img src=\"https://colab.research.google.com/assets/colab-badge.svg\" alt=\"Open In Colab\"/></a>"
      ]
    },
    {
      "cell_type": "code",
      "execution_count": 43,
      "metadata": {
        "colab": {
          "base_uri": "https://localhost:8080/"
        },
        "id": "bmhGwI5tWuNb",
        "outputId": "9239667a-89c6-42a7-8f1d-20c30a9283bd"
      },
      "outputs": [
        {
          "output_type": "execute_result",
          "data": {
            "text/plain": [
              "<torch._C.Generator at 0x7f6df8c347b0>"
            ]
          },
          "metadata": {},
          "execution_count": 43
        }
      ],
      "source": [
        "import torch\n",
        "import torch.nn as nn\n",
        "import torch.nn.functional as F\n",
        "import torch.optim as optim\n",
        "\n",
        "# For reproducibility\n",
        "torch.manual_seed(1)"
      ]
    },
    {
      "cell_type": "code",
      "source": [
        "x_data = [[1,2],[2,3],[3,1],[4,3],[5,3],[6,2]] # 6 x 2\n",
        "y_data = [[0],[0],[0],[1],[1],[1]]\n",
        "x_train = torch.FloatTensor(x_data)\n",
        "y_train = torch.FloatTensor(y_data)"
      ],
      "metadata": {
        "id": "UeYQDs2IXPkX"
      },
      "execution_count": 4,
      "outputs": []
    },
    {
      "cell_type": "code",
      "source": [
        "print(x_train.shape)\n",
        "print(y_train.shape)"
      ],
      "metadata": {
        "colab": {
          "base_uri": "https://localhost:8080/"
        },
        "id": "AFUd_stSYdgG",
        "outputId": "a97a6146-f2c1-4520-9b65-00fb3e28daff"
      },
      "execution_count": 5,
      "outputs": [
        {
          "output_type": "stream",
          "name": "stdout",
          "text": [
            "torch.Size([6, 2])\n",
            "torch.Size([6, 1])\n"
          ]
        }
      ]
    },
    {
      "cell_type": "code",
      "source": [
        " print('e^1 equals:',torch.exp(torch.FloatTensor([1])))"
      ],
      "metadata": {
        "colab": {
          "base_uri": "https://localhost:8080/"
        },
        "id": "--OVXAeCY9o9",
        "outputId": "9eddeecc-aea2-4eb9-a7d1-7ec2d6549b31"
      },
      "execution_count": 6,
      "outputs": [
        {
          "output_type": "stream",
          "name": "stdout",
          "text": [
            "e^1 equals: tensor([2.7183])\n"
          ]
        }
      ]
    },
    {
      "cell_type": "code",
      "source": [
        "W=torch.zeros((2,1),requires_grad=True)\n",
        "b= torch.zeros(1,requires_grad=True)"
      ],
      "metadata": {
        "id": "KoBxS3OjZgRE"
      },
      "execution_count": 7,
      "outputs": []
    },
    {
      "cell_type": "markdown",
      "source": [
        "# **Hypothesis**"
      ],
      "metadata": {
        "id": "oHiPL_6oclOv"
      }
    },
    {
      "cell_type": "code",
      "source": [
        "hypothesis = 1/(1+torch.exp(-(x_train.matmul(W)+b)))"
      ],
      "metadata": {
        "id": "zWF0RArJazeB"
      },
      "execution_count": 10,
      "outputs": []
    },
    {
      "cell_type": "code",
      "source": [
        "print(hypothesis)\n",
        "print(hypothesis.shape)"
      ],
      "metadata": {
        "colab": {
          "base_uri": "https://localhost:8080/"
        },
        "id": "nrVxmQGBbBs0",
        "outputId": "8e038cc9-0d36-46f4-db88-c616ca9a3292"
      },
      "execution_count": 12,
      "outputs": [
        {
          "output_type": "stream",
          "name": "stdout",
          "text": [
            "tensor([[0.5000],\n",
            "        [0.5000],\n",
            "        [0.5000],\n",
            "        [0.5000],\n",
            "        [0.5000],\n",
            "        [0.5000]], grad_fn=<MulBackward0>)\n",
            "torch.Size([6, 1])\n"
          ]
        }
      ]
    },
    {
      "cell_type": "markdown",
      "source": [
        "# **Hypothesis(Sigmoid)**"
      ],
      "metadata": {
        "id": "4STFa_A4cn3b"
      }
    },
    {
      "cell_type": "code",
      "source": [
        "print('1/(1+e^{-1} equals:' ,torch.sigmoid(torch.FloatTensor([1])))"
      ],
      "metadata": {
        "colab": {
          "base_uri": "https://localhost:8080/"
        },
        "id": "2I0T9Oyycsom",
        "outputId": "6cf72d6c-f8de-43c2-b5de-40f2a344b25c"
      },
      "execution_count": 15,
      "outputs": [
        {
          "output_type": "stream",
          "name": "stdout",
          "text": [
            "1/(1+e^{-1} equals: tensor([0.7311])\n"
          ]
        }
      ]
    },
    {
      "cell_type": "code",
      "source": [
        "hypothesis = torch.sigmoid(x_train.matmul(W)+b)"
      ],
      "metadata": {
        "id": "gp5ia_A2dOyB"
      },
      "execution_count": 18,
      "outputs": []
    },
    {
      "cell_type": "code",
      "source": [
        "print(hypothesis)\n",
        "print(hypothesis.shape)"
      ],
      "metadata": {
        "colab": {
          "base_uri": "https://localhost:8080/"
        },
        "id": "Yb-y8Mg4djWT",
        "outputId": "c5f84712-2a4b-4910-eb6b-c855435d37f2"
      },
      "execution_count": 19,
      "outputs": [
        {
          "output_type": "stream",
          "name": "stdout",
          "text": [
            "tensor([[0.5000],\n",
            "        [0.5000],\n",
            "        [0.5000],\n",
            "        [0.5000],\n",
            "        [0.5000],\n",
            "        [0.5000]], grad_fn=<SigmoidBackward0>)\n",
            "torch.Size([6, 1])\n"
          ]
        }
      ]
    },
    {
      "cell_type": "markdown",
      "source": [
        "# **Cost Function**"
      ],
      "metadata": {
        "id": "QG-LQBujeOoC"
      }
    },
    {
      "cell_type": "code",
      "source": [
        "losses = -(y_train *torch.log(hypothesis)+(1-y_train)*(torch.log(1-hypothesis)))\n",
        "cost = torch.mean(losses)"
      ],
      "metadata": {
        "id": "cNGJv6kKeRNc"
      },
      "execution_count": 20,
      "outputs": []
    },
    {
      "cell_type": "code",
      "source": [
        "print('cost equals:',cost)"
      ],
      "metadata": {
        "colab": {
          "base_uri": "https://localhost:8080/"
        },
        "id": "zeTcv8zneubu",
        "outputId": "e1e99e02-b645-4dd9-f5a1-ad03290b97ab"
      },
      "execution_count": 21,
      "outputs": [
        {
          "output_type": "stream",
          "name": "stdout",
          "text": [
            "cost equals: tensor(0.6931, grad_fn=<MeanBackward0>)\n"
          ]
        }
      ]
    },
    {
      "cell_type": "markdown",
      "source": [
        "# **앞의 과정을 축소화**"
      ],
      "metadata": {
        "id": "o2LGX4WMe2sX"
      }
    },
    {
      "cell_type": "code",
      "source": [
        "F.binary_cross_entropy(hypothesis,y_train)"
      ],
      "metadata": {
        "colab": {
          "base_uri": "https://localhost:8080/"
        },
        "id": "pGqsDxZxe-OW",
        "outputId": "e9105b26-774f-490e-9ca6-ebc9b724e26a"
      },
      "execution_count": 22,
      "outputs": [
        {
          "output_type": "execute_result",
          "data": {
            "text/plain": [
              "tensor(0.6931, grad_fn=<BinaryCrossEntropyBackward0>)"
            ]
          },
          "metadata": {},
          "execution_count": 22
        }
      ]
    },
    {
      "cell_type": "markdown",
      "source": [
        "# **Whole Training Procedure**"
      ],
      "metadata": {
        "id": "5csS-hHQfHFM"
      }
    },
    {
      "cell_type": "code",
      "source": [
        "# 모델 초기화\n",
        "W = torch.zeros((2,1),requires_grad=True)\n",
        "b=torch.zeros(1,requires_grad=True)\n",
        "#optimizer 설정\n",
        "optimizer = optim.SGD([W,b],lr =1) # learning W and b with lr\n",
        "\n",
        "nb_epochs =1000\n",
        "for epoch in range(nb_epochs+1):\n",
        "  \n",
        "  #cost\n",
        "  hypothesis = torch.sigmoid(x_train.matmul(W)+b)\n",
        "  cost = F.binary_cross_entropy(hypothesis,y_train)\n",
        "\n",
        "  optimizer.zero_grad() # reset grad\n",
        "  cost.backward() \n",
        "  optimizer.step()\n",
        " \n",
        "  if epoch % 100==0:\n",
        "    print('Epoch {:4d}/{} cost:{:.6f}'.format(epoch,nb_epochs,cost.item()))\n"
      ],
      "metadata": {
        "colab": {
          "base_uri": "https://localhost:8080/"
        },
        "id": "TnNvrF-sfVpU",
        "outputId": "18a7923c-65e9-44c6-cab5-e5924156fcb8"
      },
      "execution_count": 24,
      "outputs": [
        {
          "output_type": "stream",
          "name": "stdout",
          "text": [
            "Epoch    0/1000 cost:0.693147\n",
            "Epoch  100/1000 cost:0.134722\n",
            "Epoch  200/1000 cost:0.080643\n",
            "Epoch  300/1000 cost:0.057900\n",
            "Epoch  400/1000 cost:0.045300\n",
            "Epoch  500/1000 cost:0.037261\n",
            "Epoch  600/1000 cost:0.031672\n",
            "Epoch  700/1000 cost:0.027556\n",
            "Epoch  800/1000 cost:0.024394\n",
            "Epoch  900/1000 cost:0.021888\n",
            "Epoch 1000/1000 cost:0.019852\n"
          ]
        }
      ]
    },
    {
      "cell_type": "markdown",
      "source": [
        "# **Evaluation**"
      ],
      "metadata": {
        "id": "LEF5yhHXlx8v"
      }
    },
    {
      "cell_type": "code",
      "source": [
        "hypothesis = torch.sigmoid(x_train.matmul(W)+b)\n",
        "print(hypothesis[:5])"
      ],
      "metadata": {
        "colab": {
          "base_uri": "https://localhost:8080/"
        },
        "id": "2wgo_bb6l2zZ",
        "outputId": "e368097c-90ec-4795-d205-70f3e07655bc"
      },
      "execution_count": 26,
      "outputs": [
        {
          "output_type": "stream",
          "name": "stdout",
          "text": [
            "tensor([[2.7648e-04],\n",
            "        [3.1608e-02],\n",
            "        [3.8977e-02],\n",
            "        [9.5622e-01],\n",
            "        [9.9823e-01]], grad_fn=<SliceBackward0>)\n"
          ]
        }
      ]
    },
    {
      "cell_type": "code",
      "source": [
        "prediction = hypothesis>=torch.FloatTensor([0.5]) # if hypothesis higher than 0.5 -> 1\n",
        "for i in prediction[:5]:\n",
        "  if i==True:\n",
        "    print(torch.FloatTensor([1]))\n",
        "  else:\n",
        "    print(torch.FloatTensor([0]))\n",
        "print(y_train[:5])"
      ],
      "metadata": {
        "colab": {
          "base_uri": "https://localhost:8080/"
        },
        "id": "XINk4s61mRiV",
        "outputId": "93414b00-3a26-41a6-f5d5-e461dc9d7f75"
      },
      "execution_count": 31,
      "outputs": [
        {
          "output_type": "stream",
          "name": "stdout",
          "text": [
            "tensor([0.])\n",
            "tensor([0.])\n",
            "tensor([0.])\n",
            "tensor([1.])\n",
            "tensor([1.])\n",
            "tensor([[0.],\n",
            "        [0.],\n",
            "        [0.],\n",
            "        [1.],\n",
            "        [1.]])\n"
          ]
        }
      ]
    },
    {
      "cell_type": "code",
      "source": [
        "correct_prediction = prediction.float() == y_train\n",
        "print(correct_prediction[:5])"
      ],
      "metadata": {
        "colab": {
          "base_uri": "https://localhost:8080/"
        },
        "id": "_qiWczMlo0yn",
        "outputId": "cb46a8f5-c6c0-4a02-d682-8e3fcbc50f8a"
      },
      "execution_count": 32,
      "outputs": [
        {
          "output_type": "stream",
          "name": "stdout",
          "text": [
            "tensor([[True],\n",
            "        [True],\n",
            "        [True],\n",
            "        [True],\n",
            "        [True]])\n"
          ]
        }
      ]
    },
    {
      "cell_type": "code",
      "source": [
        "class BinaryClassifier(nn.Module):\n",
        "    def __init__(self):\n",
        "        super().__init__()\n",
        "        self.linear = nn.Linear(2, 1)\n",
        "        self.sigmoid = nn.Sigmoid()\n",
        "\n",
        "    def forward(self, x):\n",
        "        return self.sigmoid(self.linear(x))"
      ],
      "metadata": {
        "id": "gW_aGhe7pURU"
      },
      "execution_count": 52,
      "outputs": []
    },
    {
      "cell_type": "code",
      "source": [
        "model = BinaryClassifier()"
      ],
      "metadata": {
        "id": "V9-4aUy5p9dS"
      },
      "execution_count": 54,
      "outputs": []
    },
    {
      "cell_type": "code",
      "source": [
        "# optimizer 설정\n",
        "optimizer = optim.SGD(model.parameters(), lr=1)\n",
        "\n",
        "nb_epochs = 100\n",
        "for epoch in range(nb_epochs + 1):\n",
        "\n",
        "    # H(x) 계산\n",
        "    hypothesis = model(x_train)\n",
        "\n",
        "    # cost 계산\n",
        "    cost = F.binary_cross_entropy(hypothesis, y_train)\n",
        "\n",
        "    # cost로 H(x) 개선\n",
        "    optimizer.zero_grad()\n",
        "    cost.backward()\n",
        "    optimizer.step()\n",
        "    \n",
        "    # 20번마다 로그 출력\n",
        "    if epoch % 10 == 0:\n",
        "        prediction = hypothesis >= torch.FloatTensor([0.5])\n",
        "        correct_prediction = prediction.float() == y_train\n",
        "        accuracy = correct_prediction.sum().item() / len(correct_prediction)\n",
        "        print('Epoch {:4d}/{} Cost: {:.6f} Accuracy {:2.2f}%'.format(\n",
        "            epoch, nb_epochs, cost.item(), accuracy * 100,\n",
        "        ))"
      ],
      "metadata": {
        "colab": {
          "base_uri": "https://localhost:8080/"
        },
        "id": "kqcacVXuqFo-",
        "outputId": "e75d84fb-3cc9-42c9-c83e-2abd6b1e5f60"
      },
      "execution_count": 55,
      "outputs": [
        {
          "output_type": "stream",
          "name": "stdout",
          "text": [
            "Epoch    0/100 Cost: 0.733120 Accuracy 50.00%\n",
            "Epoch   10/100 Cost: 0.471225 Accuracy 83.33%\n",
            "Epoch   20/100 Cost: 0.739847 Accuracy 66.67%\n",
            "Epoch   30/100 Cost: 0.542283 Accuracy 83.33%\n",
            "Epoch   40/100 Cost: 0.451816 Accuracy 83.33%\n",
            "Epoch   50/100 Cost: 0.367630 Accuracy 83.33%\n",
            "Epoch   60/100 Cost: 0.288506 Accuracy 83.33%\n",
            "Epoch   70/100 Cost: 0.220184 Accuracy 83.33%\n",
            "Epoch   80/100 Cost: 0.173718 Accuracy 100.00%\n",
            "Epoch   90/100 Cost: 0.151886 Accuracy 100.00%\n",
            "Epoch  100/100 Cost: 0.140431 Accuracy 100.00%\n"
          ]
        }
      ]
    }
  ]
}