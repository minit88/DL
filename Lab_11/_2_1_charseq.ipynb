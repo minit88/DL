{
  "nbformat": 4,
  "nbformat_minor": 0,
  "metadata": {
    "colab": {
      "provenance": [],
      "authorship_tag": "ABX9TyMjgvoOtuEebg4q4+aqnnG6"
    },
    "kernelspec": {
      "name": "python3",
      "display_name": "Python 3"
    },
    "language_info": {
      "name": "python"
    }
  },
  "cells": [
    {
      "cell_type": "code",
      "execution_count": 1,
      "metadata": {
        "id": "xf5dIiw65h0x"
      },
      "outputs": [],
      "source": [
        "import torch\n",
        "import torch.optim as optim\n",
        "import numpy as np"
      ]
    },
    {
      "cell_type": "code",
      "source": [
        "torch.manual_seed(0)"
      ],
      "metadata": {
        "colab": {
          "base_uri": "https://localhost:8080/"
        },
        "id": "eQTwWUDU5wJ-",
        "outputId": "2d549f94-4a2b-42a5-8502-4769794eb68d"
      },
      "execution_count": 2,
      "outputs": [
        {
          "output_type": "execute_result",
          "data": {
            "text/plain": [
              "<torch._C.Generator at 0x7f79919e0630>"
            ]
          },
          "metadata": {},
          "execution_count": 2
        }
      ]
    },
    {
      "cell_type": "code",
      "source": [
        "sample = \" if you want you\""
      ],
      "metadata": {
        "id": "IsSZCKO050hm"
      },
      "execution_count": 3,
      "outputs": []
    },
    {
      "cell_type": "code",
      "source": [
        "# make dictionary\n",
        "char_set=list(set(sample))\n",
        "char_dic = {c:i for i , c in enumerate(char_set)}\n",
        "print(char_dic)"
      ],
      "metadata": {
        "colab": {
          "base_uri": "https://localhost:8080/"
        },
        "id": "-ZUbrldC54mS",
        "outputId": "9ff94088-0f0a-4b87-c52c-068809ba828f"
      },
      "execution_count": 4,
      "outputs": [
        {
          "output_type": "stream",
          "name": "stdout",
          "text": [
            "{' ': 0, 'f': 1, 'y': 2, 'i': 3, 'u': 4, 'a': 5, 'n': 6, 'w': 7, 't': 8, 'o': 9}\n"
          ]
        }
      ]
    },
    {
      "cell_type": "code",
      "source": [
        "# hyper parameters\n",
        "dic_size=len(char_dic)\n",
        "hidden_size = len(char_dic)\n",
        "learning_rate = 0.1"
      ],
      "metadata": {
        "id": "3An-3DzQ6OMH"
      },
      "execution_count": 5,
      "outputs": []
    },
    {
      "cell_type": "code",
      "source": [
        "# data setting\n",
        "sample_idx = [char_dic[c]for c in sample]\n",
        "x_data = [sample_idx[:-1]]\n",
        "print(x_data)\n",
        "x_one_hot = [np.eye(dic_size)[x]for x in x_data]\n",
        "y_data = [sample_idx[1:]]\n",
        "\n",
        "print(x_one_hot)\n",
        "print(y_data)"
      ],
      "metadata": {
        "colab": {
          "base_uri": "https://localhost:8080/"
        },
        "id": "ODzxkI6A6hkx",
        "outputId": "7a83ab44-48ec-4c0c-b794-09d74d01a918"
      },
      "execution_count": 6,
      "outputs": [
        {
          "output_type": "stream",
          "name": "stdout",
          "text": [
            "[[0, 3, 1, 0, 2, 9, 4, 0, 7, 5, 6, 8, 0, 2, 9]]\n",
            "[array([[1., 0., 0., 0., 0., 0., 0., 0., 0., 0.],\n",
            "       [0., 0., 0., 1., 0., 0., 0., 0., 0., 0.],\n",
            "       [0., 1., 0., 0., 0., 0., 0., 0., 0., 0.],\n",
            "       [1., 0., 0., 0., 0., 0., 0., 0., 0., 0.],\n",
            "       [0., 0., 1., 0., 0., 0., 0., 0., 0., 0.],\n",
            "       [0., 0., 0., 0., 0., 0., 0., 0., 0., 1.],\n",
            "       [0., 0., 0., 0., 1., 0., 0., 0., 0., 0.],\n",
            "       [1., 0., 0., 0., 0., 0., 0., 0., 0., 0.],\n",
            "       [0., 0., 0., 0., 0., 0., 0., 1., 0., 0.],\n",
            "       [0., 0., 0., 0., 0., 1., 0., 0., 0., 0.],\n",
            "       [0., 0., 0., 0., 0., 0., 1., 0., 0., 0.],\n",
            "       [0., 0., 0., 0., 0., 0., 0., 0., 1., 0.],\n",
            "       [1., 0., 0., 0., 0., 0., 0., 0., 0., 0.],\n",
            "       [0., 0., 1., 0., 0., 0., 0., 0., 0., 0.],\n",
            "       [0., 0., 0., 0., 0., 0., 0., 0., 0., 1.]])]\n",
            "[[3, 1, 0, 2, 9, 4, 0, 7, 5, 6, 8, 0, 2, 9, 4]]\n"
          ]
        }
      ]
    },
    {
      "cell_type": "code",
      "source": [
        "X = torch.FloatTensor(x_one_hot)\n",
        "Y = torch.LongTensor(y_data)\n",
        "print(X)"
      ],
      "metadata": {
        "colab": {
          "base_uri": "https://localhost:8080/"
        },
        "id": "Y3Ue5whCXh9W",
        "outputId": "26bfb4ad-4b53-4409-bbc3-5dedf13f95ec"
      },
      "execution_count": 11,
      "outputs": [
        {
          "output_type": "stream",
          "name": "stdout",
          "text": [
            "tensor([[[1., 0., 0., 0., 0., 0., 0., 0., 0., 0.],\n",
            "         [0., 0., 0., 1., 0., 0., 0., 0., 0., 0.],\n",
            "         [0., 1., 0., 0., 0., 0., 0., 0., 0., 0.],\n",
            "         [1., 0., 0., 0., 0., 0., 0., 0., 0., 0.],\n",
            "         [0., 0., 1., 0., 0., 0., 0., 0., 0., 0.],\n",
            "         [0., 0., 0., 0., 0., 0., 0., 0., 0., 1.],\n",
            "         [0., 0., 0., 0., 1., 0., 0., 0., 0., 0.],\n",
            "         [1., 0., 0., 0., 0., 0., 0., 0., 0., 0.],\n",
            "         [0., 0., 0., 0., 0., 0., 0., 1., 0., 0.],\n",
            "         [0., 0., 0., 0., 0., 1., 0., 0., 0., 0.],\n",
            "         [0., 0., 0., 0., 0., 0., 1., 0., 0., 0.],\n",
            "         [0., 0., 0., 0., 0., 0., 0., 0., 1., 0.],\n",
            "         [1., 0., 0., 0., 0., 0., 0., 0., 0., 0.],\n",
            "         [0., 0., 1., 0., 0., 0., 0., 0., 0., 0.],\n",
            "         [0., 0., 0., 0., 0., 0., 0., 0., 0., 1.]]])\n"
          ]
        }
      ]
    },
    {
      "cell_type": "code",
      "source": [
        "rnn = torch.nn.RNN(dic_size,hidden_size,batch_first=True)"
      ],
      "metadata": {
        "id": "KEVFkhHnXqAC"
      },
      "execution_count": 8,
      "outputs": []
    },
    {
      "cell_type": "code",
      "source": [
        "criterion = torch.nn.CrossEntropyLoss()\n",
        "optimizer = optim.Adam(rnn.parameters(),learning_rate)"
      ],
      "metadata": {
        "id": "B6ayd9enYD_j"
      },
      "execution_count": 9,
      "outputs": []
    },
    {
      "cell_type": "code",
      "source": [
        "# start training\n",
        "for i in range(50):\n",
        "    optimizer.zero_grad()\n",
        "    outputs, _status = rnn(X)\n",
        "    loss = criterion(outputs.view(-1, dic_size), Y.view(-1))\n",
        "    loss.backward()\n",
        "    optimizer.step()\n",
        "\n",
        "    result = outputs.data.numpy().argmax(axis=2)\n",
        "    result_str = ''.join([char_set[c] for c in np.squeeze(result)])\n",
        "    print(i, \"loss: \", loss.item(), \"prediction: \", result, \"true Y: \", y_data, \"prediction str: \", result_str)"
      ],
      "metadata": {
        "colab": {
          "base_uri": "https://localhost:8080/"
        },
        "id": "1_vmbtaWYbEl",
        "outputId": "1a32e3c8-b2d1-420c-e711-ef2093966c17"
      },
      "execution_count": 10,
      "outputs": [
        {
          "output_type": "stream",
          "name": "stdout",
          "text": [
            "0 loss:  2.3633580207824707 prediction:  [[5 7 8 5 8 6 5 5 0 7 7 8 5 8 6]] true Y:  [[3, 1, 0, 2, 9, 4, 0, 7, 5, 6, 8, 0, 2, 9, 4]] prediction str:  awtatnaa wwtatn\n",
            "1 loss:  2.1114325523376465 prediction:  [[2 9 0 0 9 0 0 0 0 0 9 0 0 9 0]] true Y:  [[3, 1, 0, 2, 9, 4, 0, 7, 5, 6, 8, 0, 2, 9, 4]] prediction str:  yo  o     o  o \n",
            "2 loss:  1.8475581407546997 prediction:  [[2 9 0 2 9 0 0 7 0 0 0 0 2 9 0]] true Y:  [[3, 1, 0, 2, 9, 4, 0, 7, 5, 6, 8, 0, 2, 9, 4]] prediction str:  yo yo  w    yo \n",
            "3 loss:  1.6431394815444946 prediction:  [[2 9 0 2 9 0 5 7 0 0 8 0 2 7 0]] true Y:  [[3, 1, 0, 2, 9, 4, 0, 7, 5, 6, 8, 0, 2, 9, 4]] prediction str:  yo yo aw  t yw \n",
            "4 loss:  1.5065146684646606 prediction:  [[2 9 0 2 7 4 5 7 0 6 8 0 2 9 4]] true Y:  [[3, 1, 0, 2, 9, 4, 0, 7, 5, 6, 8, 0, 2, 9, 4]] prediction str:  yo ywuaw nt you\n",
            "5 loss:  1.4236384630203247 prediction:  [[3 5 0 2 7 4 5 7 5 6 8 0 2 9 4]] true Y:  [[3, 1, 0, 2, 9, 4, 0, 7, 5, 6, 8, 0, 2, 9, 4]] prediction str:  ia ywuawant you\n",
            "6 loss:  1.3470821380615234 prediction:  [[3 5 0 2 9 4 5 7 5 6 8 0 2 9 4]] true Y:  [[3, 1, 0, 2, 9, 4, 0, 7, 5, 6, 8, 0, 2, 9, 4]] prediction str:  ia youawant you\n",
            "7 loss:  1.28592050075531 prediction:  [[3 1 0 2 9 4 6 7 5 6 8 0 2 9 4]] true Y:  [[3, 1, 0, 2, 9, 4, 0, 7, 5, 6, 8, 0, 2, 9, 4]] prediction str:  if younwant you\n",
            "8 loss:  1.2201038599014282 prediction:  [[3 1 0 2 9 4 6 7 5 6 8 0 2 9 4]] true Y:  [[3, 1, 0, 2, 9, 4, 0, 7, 5, 6, 8, 0, 2, 9, 4]] prediction str:  if younwant you\n",
            "9 loss:  1.1569068431854248 prediction:  [[3 1 0 2 9 4 5 7 5 6 8 0 2 9 4]] true Y:  [[3, 1, 0, 2, 9, 4, 0, 7, 5, 6, 8, 0, 2, 9, 4]] prediction str:  if youawant you\n",
            "10 loss:  1.1170470714569092 prediction:  [[3 1 0 2 9 4 5 7 5 6 8 0 2 9 4]] true Y:  [[3, 1, 0, 2, 9, 4, 0, 7, 5, 6, 8, 0, 2, 9, 4]] prediction str:  if youawant you\n",
            "11 loss:  1.0750466585159302 prediction:  [[3 1 0 2 9 4 0 7 5 6 8 0 2 9 4]] true Y:  [[3, 1, 0, 2, 9, 4, 0, 7, 5, 6, 8, 0, 2, 9, 4]] prediction str:  if you want you\n",
            "12 loss:  1.0313206911087036 prediction:  [[3 1 0 2 9 4 5 7 5 6 8 0 2 9 4]] true Y:  [[3, 1, 0, 2, 9, 4, 0, 7, 5, 6, 8, 0, 2, 9, 4]] prediction str:  if youawant you\n",
            "13 loss:  0.990290105342865 prediction:  [[3 1 0 2 9 4 5 7 5 6 8 0 2 9 4]] true Y:  [[3, 1, 0, 2, 9, 4, 0, 7, 5, 6, 8, 0, 2, 9, 4]] prediction str:  if youawant you\n",
            "14 loss:  0.9686612486839294 prediction:  [[3 1 0 2 9 4 5 7 5 6 8 0 2 9 4]] true Y:  [[3, 1, 0, 2, 9, 4, 0, 7, 5, 6, 8, 0, 2, 9, 4]] prediction str:  if youawant you\n",
            "15 loss:  0.9541296362876892 prediction:  [[3 1 0 2 9 4 5 7 5 6 8 0 2 9 4]] true Y:  [[3, 1, 0, 2, 9, 4, 0, 7, 5, 6, 8, 0, 2, 9, 4]] prediction str:  if youawant you\n",
            "16 loss:  0.9349861741065979 prediction:  [[3 1 0 2 9 4 5 7 5 6 8 0 2 9 4]] true Y:  [[3, 1, 0, 2, 9, 4, 0, 7, 5, 6, 8, 0, 2, 9, 4]] prediction str:  if youawant you\n",
            "17 loss:  0.9133625626564026 prediction:  [[3 1 0 2 9 4 0 7 5 6 8 0 2 9 4]] true Y:  [[3, 1, 0, 2, 9, 4, 0, 7, 5, 6, 8, 0, 2, 9, 4]] prediction str:  if you want you\n",
            "18 loss:  0.8957239389419556 prediction:  [[3 1 0 2 9 4 0 7 5 6 8 0 2 9 4]] true Y:  [[3, 1, 0, 2, 9, 4, 0, 7, 5, 6, 8, 0, 2, 9, 4]] prediction str:  if you want you\n",
            "19 loss:  0.8838485479354858 prediction:  [[3 1 0 2 9 4 0 7 5 6 8 0 2 9 4]] true Y:  [[3, 1, 0, 2, 9, 4, 0, 7, 5, 6, 8, 0, 2, 9, 4]] prediction str:  if you want you\n",
            "20 loss:  0.8759723901748657 prediction:  [[3 1 0 2 9 4 0 7 5 6 8 0 2 9 4]] true Y:  [[3, 1, 0, 2, 9, 4, 0, 7, 5, 6, 8, 0, 2, 9, 4]] prediction str:  if you want you\n",
            "21 loss:  0.8698751926422119 prediction:  [[3 1 0 2 9 4 0 7 5 6 8 0 2 9 4]] true Y:  [[3, 1, 0, 2, 9, 4, 0, 7, 5, 6, 8, 0, 2, 9, 4]] prediction str:  if you want you\n",
            "22 loss:  0.8644163012504578 prediction:  [[3 1 0 2 9 4 0 7 5 6 8 0 2 9 4]] true Y:  [[3, 1, 0, 2, 9, 4, 0, 7, 5, 6, 8, 0, 2, 9, 4]] prediction str:  if you want you\n",
            "23 loss:  0.8591763377189636 prediction:  [[3 1 0 2 9 4 0 7 5 6 8 0 2 9 4]] true Y:  [[3, 1, 0, 2, 9, 4, 0, 7, 5, 6, 8, 0, 2, 9, 4]] prediction str:  if you want you\n",
            "24 loss:  0.8538408279418945 prediction:  [[3 1 0 2 9 4 0 7 5 6 8 0 2 9 4]] true Y:  [[3, 1, 0, 2, 9, 4, 0, 7, 5, 6, 8, 0, 2, 9, 4]] prediction str:  if you want you\n",
            "25 loss:  0.8481261730194092 prediction:  [[3 1 0 2 9 4 0 7 5 6 8 0 2 9 4]] true Y:  [[3, 1, 0, 2, 9, 4, 0, 7, 5, 6, 8, 0, 2, 9, 4]] prediction str:  if you want you\n",
            "26 loss:  0.8422129154205322 prediction:  [[3 1 0 2 9 4 0 7 5 6 8 0 2 9 4]] true Y:  [[3, 1, 0, 2, 9, 4, 0, 7, 5, 6, 8, 0, 2, 9, 4]] prediction str:  if you want you\n",
            "27 loss:  0.8383752107620239 prediction:  [[3 1 0 2 9 4 0 7 5 6 8 0 2 9 4]] true Y:  [[3, 1, 0, 2, 9, 4, 0, 7, 5, 6, 8, 0, 2, 9, 4]] prediction str:  if you want you\n",
            "28 loss:  0.8377530574798584 prediction:  [[3 1 0 2 9 4 0 7 5 6 8 0 2 9 4]] true Y:  [[3, 1, 0, 2, 9, 4, 0, 7, 5, 6, 8, 0, 2, 9, 4]] prediction str:  if you want you\n",
            "29 loss:  0.8312461972236633 prediction:  [[3 1 0 2 9 4 0 7 5 6 8 0 2 9 4]] true Y:  [[3, 1, 0, 2, 9, 4, 0, 7, 5, 6, 8, 0, 2, 9, 4]] prediction str:  if you want you\n",
            "30 loss:  0.8295304179191589 prediction:  [[3 1 0 2 9 4 0 7 5 6 8 0 2 9 4]] true Y:  [[3, 1, 0, 2, 9, 4, 0, 7, 5, 6, 8, 0, 2, 9, 4]] prediction str:  if you want you\n",
            "31 loss:  0.8288995027542114 prediction:  [[3 1 0 2 9 4 0 7 5 6 8 0 2 9 4]] true Y:  [[3, 1, 0, 2, 9, 4, 0, 7, 5, 6, 8, 0, 2, 9, 4]] prediction str:  if you want you\n",
            "32 loss:  0.827086329460144 prediction:  [[3 1 0 2 9 4 0 7 5 6 8 0 2 9 4]] true Y:  [[3, 1, 0, 2, 9, 4, 0, 7, 5, 6, 8, 0, 2, 9, 4]] prediction str:  if you want you\n",
            "33 loss:  0.8249289393424988 prediction:  [[3 1 0 2 9 4 0 7 5 6 8 0 2 9 4]] true Y:  [[3, 1, 0, 2, 9, 4, 0, 7, 5, 6, 8, 0, 2, 9, 4]] prediction str:  if you want you\n",
            "34 loss:  0.8245779871940613 prediction:  [[3 1 0 2 9 4 0 7 5 6 8 0 2 9 4]] true Y:  [[3, 1, 0, 2, 9, 4, 0, 7, 5, 6, 8, 0, 2, 9, 4]] prediction str:  if you want you\n",
            "35 loss:  0.8231533765792847 prediction:  [[3 1 0 2 9 4 0 7 5 6 8 0 2 9 4]] true Y:  [[3, 1, 0, 2, 9, 4, 0, 7, 5, 6, 8, 0, 2, 9, 4]] prediction str:  if you want you\n",
            "36 loss:  0.8214188814163208 prediction:  [[3 1 0 2 9 4 0 7 5 6 8 0 2 9 4]] true Y:  [[3, 1, 0, 2, 9, 4, 0, 7, 5, 6, 8, 0, 2, 9, 4]] prediction str:  if you want you\n",
            "37 loss:  0.8210673928260803 prediction:  [[3 1 0 2 9 4 0 7 5 6 8 0 2 9 4]] true Y:  [[3, 1, 0, 2, 9, 4, 0, 7, 5, 6, 8, 0, 2, 9, 4]] prediction str:  if you want you\n",
            "38 loss:  0.820633053779602 prediction:  [[3 1 0 2 9 4 0 7 5 6 8 0 2 9 4]] true Y:  [[3, 1, 0, 2, 9, 4, 0, 7, 5, 6, 8, 0, 2, 9, 4]] prediction str:  if you want you\n",
            "39 loss:  0.8198660016059875 prediction:  [[3 1 0 2 9 4 0 7 5 6 8 0 2 9 4]] true Y:  [[3, 1, 0, 2, 9, 4, 0, 7, 5, 6, 8, 0, 2, 9, 4]] prediction str:  if you want you\n",
            "40 loss:  0.8194713592529297 prediction:  [[3 1 0 2 9 4 0 7 5 6 8 0 2 9 4]] true Y:  [[3, 1, 0, 2, 9, 4, 0, 7, 5, 6, 8, 0, 2, 9, 4]] prediction str:  if you want you\n",
            "41 loss:  0.8195288181304932 prediction:  [[3 1 0 2 9 4 0 7 5 6 8 0 2 9 4]] true Y:  [[3, 1, 0, 2, 9, 4, 0, 7, 5, 6, 8, 0, 2, 9, 4]] prediction str:  if you want you\n",
            "42 loss:  0.8188027143478394 prediction:  [[3 1 0 2 9 4 0 7 5 6 8 0 2 9 4]] true Y:  [[3, 1, 0, 2, 9, 4, 0, 7, 5, 6, 8, 0, 2, 9, 4]] prediction str:  if you want you\n",
            "43 loss:  0.8179084658622742 prediction:  [[3 1 0 2 9 4 0 7 5 6 8 0 2 9 4]] true Y:  [[3, 1, 0, 2, 9, 4, 0, 7, 5, 6, 8, 0, 2, 9, 4]] prediction str:  if you want you\n",
            "44 loss:  0.817501425743103 prediction:  [[3 1 0 2 9 4 0 7 5 6 8 0 2 9 4]] true Y:  [[3, 1, 0, 2, 9, 4, 0, 7, 5, 6, 8, 0, 2, 9, 4]] prediction str:  if you want you\n",
            "45 loss:  0.8170349597930908 prediction:  [[3 1 0 2 9 4 0 7 5 6 8 0 2 9 4]] true Y:  [[3, 1, 0, 2, 9, 4, 0, 7, 5, 6, 8, 0, 2, 9, 4]] prediction str:  if you want you\n",
            "46 loss:  0.8163555860519409 prediction:  [[3 1 0 2 9 4 0 7 5 6 8 0 2 9 4]] true Y:  [[3, 1, 0, 2, 9, 4, 0, 7, 5, 6, 8, 0, 2, 9, 4]] prediction str:  if you want you\n",
            "47 loss:  0.8160077333450317 prediction:  [[3 1 0 2 9 4 0 7 5 6 8 0 2 9 4]] true Y:  [[3, 1, 0, 2, 9, 4, 0, 7, 5, 6, 8, 0, 2, 9, 4]] prediction str:  if you want you\n",
            "48 loss:  0.8160185217857361 prediction:  [[3 1 0 2 9 4 0 7 5 6 8 0 2 9 4]] true Y:  [[3, 1, 0, 2, 9, 4, 0, 7, 5, 6, 8, 0, 2, 9, 4]] prediction str:  if you want you\n",
            "49 loss:  0.8155685663223267 prediction:  [[3 1 0 2 9 4 0 7 5 6 8 0 2 9 4]] true Y:  [[3, 1, 0, 2, 9, 4, 0, 7, 5, 6, 8, 0, 2, 9, 4]] prediction str:  if you want you\n"
          ]
        }
      ]
    }
  ]
}