{
  "nbformat": 4,
  "nbformat_minor": 0,
  "metadata": {
    "colab": {
      "provenance": [],
      "authorship_tag": "ABX9TyORrxXPOxMAlcq+X2eClw44",
      "include_colab_link": true
    },
    "kernelspec": {
      "name": "python3",
      "display_name": "Python 3"
    },
    "language_info": {
      "name": "python"
    }
  },
  "cells": [
    {
      "cell_type": "markdown",
      "metadata": {
        "id": "view-in-github",
        "colab_type": "text"
      },
      "source": [
        "<a href=\"https://colab.research.google.com/github/minit88/ML-DL/blob/main/Lab_07/mnist_introduction.ipynb\" target=\"_parent\"><img src=\"https://colab.research.google.com/assets/colab-badge.svg\" alt=\"Open In Colab\"/></a>"
      ]
    },
    {
      "cell_type": "code",
      "execution_count": 33,
      "metadata": {
        "id": "Za0miBWSZmCb"
      },
      "outputs": [],
      "source": [
        "import torch\n",
        "import torchvision.datasets as dsets\n",
        "import torchvision.transforms as transforms\n",
        "import matplotlib.pyplot as plt\n",
        "import random\n"
      ]
    },
    {
      "cell_type": "code",
      "source": [
        "device = 'cuda' if torch.cuda.is_available() else 'cpu'\n",
        "\n",
        "random.seed(777)\n",
        "torch.manual_seed(777)\n",
        "if device =='cuda':\n",
        "  torch.cuda.manual_seed_all(777)"
      ],
      "metadata": {
        "id": "tgNaGFvCZ0tJ"
      },
      "execution_count": 34,
      "outputs": []
    },
    {
      "cell_type": "code",
      "source": [
        "training_epochs =100\n",
        "batch_size = 100"
      ],
      "metadata": {
        "id": "uYV5lwtWb4yp"
      },
      "execution_count": 35,
      "outputs": []
    },
    {
      "cell_type": "code",
      "source": [
        "# MNIST dataset\n",
        "mnist_train = dsets.MNIST(root='MNIST_data/',\n",
        "                          train=True,\n",
        "                          transform=transforms.ToTensor(),\n",
        "                          download=True)\n",
        "\n",
        "mnist_test = dsets.MNIST(root='MNIST_data/',\n",
        "                         train=False,\n",
        "                         transform=transforms.ToTensor(),\n",
        "                         download=True)"
      ],
      "metadata": {
        "id": "cxROwhlZcBDg"
      },
      "execution_count": 36,
      "outputs": []
    },
    {
      "cell_type": "code",
      "source": [
        "data_loader = torch.utils.data.DataLoader(dataset=mnist_train,batch_size=batch_size,shuffle=True,drop_last=True)"
      ],
      "metadata": {
        "id": "PQFFmUzIeQM-"
      },
      "execution_count": 37,
      "outputs": []
    },
    {
      "cell_type": "code",
      "source": [
        "linear = torch.nn.Linear(784,10,bias=True).to(device)"
      ],
      "metadata": {
        "id": "VVZn4Rh8e8ym"
      },
      "execution_count": 38,
      "outputs": []
    },
    {
      "cell_type": "code",
      "source": [
        "#define cost/loss & optimizer\n",
        "criterion = torch.nn.CrossEntropyLoss().to(device)\n",
        "optimizer = torch.optim.SGD(linear.parameters(),lr=0.1) "
      ],
      "metadata": {
        "id": "W3ivekbVfIu6"
      },
      "execution_count": 39,
      "outputs": []
    },
    {
      "cell_type": "code",
      "source": [
        "for epoch in range(training_epochs):\n",
        "    avg_cost = 0\n",
        "    total_batch = len(data_loader)\n",
        "\n",
        "    for X, Y in data_loader:\n",
        "        # reshape input image into [batch_size by 784]\n",
        "        # label is not one-hot encoded\n",
        "        X = X.view(-1, 28 * 28).to(device)\n",
        "        Y = Y.to(device)\n",
        "\n",
        "        optimizer.zero_grad()\n",
        "        hypothesis = linear(X)\n",
        "        cost = criterion(hypothesis, Y)\n",
        "        cost.backward()\n",
        "        optimizer.step()\n",
        "\n",
        "        avg_cost += cost / total_batch\n",
        "\n",
        "    print('Epoch:', '%04d' % (epoch + 1), 'cost =', '{:.9f}'.format(avg_cost))\n",
        "\n",
        "print('Learning finished')"
      ],
      "metadata": {
        "colab": {
          "base_uri": "https://localhost:8080/"
        },
        "id": "lrupCB23ffKX",
        "outputId": "13af1c0d-8377-4492-9433-e88ebc303861"
      },
      "execution_count": 40,
      "outputs": [
        {
          "output_type": "stream",
          "name": "stdout",
          "text": [
            "Epoch: 0001 cost = 0.535150588\n",
            "Epoch: 0002 cost = 0.359577775\n",
            "Epoch: 0003 cost = 0.331264287\n",
            "Epoch: 0004 cost = 0.316404670\n",
            "Epoch: 0005 cost = 0.307107031\n",
            "Epoch: 0006 cost = 0.300456554\n",
            "Epoch: 0007 cost = 0.294933408\n",
            "Epoch: 0008 cost = 0.290956199\n",
            "Epoch: 0009 cost = 0.287074089\n",
            "Epoch: 0010 cost = 0.284515619\n",
            "Epoch: 0011 cost = 0.281914055\n",
            "Epoch: 0012 cost = 0.279526889\n",
            "Epoch: 0013 cost = 0.277636588\n",
            "Epoch: 0014 cost = 0.275874764\n",
            "Epoch: 0015 cost = 0.274422795\n",
            "Epoch: 0016 cost = 0.272883654\n",
            "Epoch: 0017 cost = 0.271629602\n",
            "Epoch: 0018 cost = 0.270609796\n",
            "Epoch: 0019 cost = 0.269295007\n",
            "Epoch: 0020 cost = 0.268277347\n",
            "Epoch: 0021 cost = 0.267255485\n",
            "Epoch: 0022 cost = 0.266613454\n",
            "Epoch: 0023 cost = 0.265661418\n",
            "Epoch: 0024 cost = 0.264922291\n",
            "Epoch: 0025 cost = 0.263888717\n",
            "Epoch: 0026 cost = 0.263269782\n",
            "Epoch: 0027 cost = 0.262586117\n",
            "Epoch: 0028 cost = 0.261751652\n",
            "Epoch: 0029 cost = 0.261135817\n",
            "Epoch: 0030 cost = 0.260536909\n",
            "Epoch: 0031 cost = 0.260275453\n",
            "Epoch: 0032 cost = 0.259709090\n",
            "Epoch: 0033 cost = 0.258947134\n",
            "Epoch: 0034 cost = 0.258617997\n",
            "Epoch: 0035 cost = 0.258048773\n",
            "Epoch: 0036 cost = 0.257542819\n",
            "Epoch: 0037 cost = 0.257166386\n",
            "Epoch: 0038 cost = 0.256698728\n",
            "Epoch: 0039 cost = 0.256314337\n",
            "Epoch: 0040 cost = 0.255765855\n",
            "Epoch: 0041 cost = 0.255531222\n",
            "Epoch: 0042 cost = 0.254914343\n",
            "Epoch: 0043 cost = 0.254686505\n",
            "Epoch: 0044 cost = 0.254367441\n",
            "Epoch: 0045 cost = 0.254017055\n",
            "Epoch: 0046 cost = 0.253749520\n",
            "Epoch: 0047 cost = 0.253456146\n",
            "Epoch: 0048 cost = 0.252950668\n",
            "Epoch: 0049 cost = 0.252728969\n",
            "Epoch: 0050 cost = 0.252436072\n",
            "Epoch: 0051 cost = 0.252046257\n",
            "Epoch: 0052 cost = 0.251570165\n",
            "Epoch: 0053 cost = 0.251367420\n",
            "Epoch: 0054 cost = 0.251246393\n",
            "Epoch: 0055 cost = 0.251039475\n",
            "Epoch: 0056 cost = 0.250813097\n",
            "Epoch: 0057 cost = 0.250424027\n",
            "Epoch: 0058 cost = 0.250028580\n",
            "Epoch: 0059 cost = 0.250024080\n",
            "Epoch: 0060 cost = 0.249757975\n",
            "Epoch: 0061 cost = 0.249497831\n",
            "Epoch: 0062 cost = 0.249265119\n",
            "Epoch: 0063 cost = 0.248886302\n",
            "Epoch: 0064 cost = 0.248696938\n",
            "Epoch: 0065 cost = 0.248614609\n",
            "Epoch: 0066 cost = 0.248439044\n",
            "Epoch: 0067 cost = 0.248139098\n",
            "Epoch: 0068 cost = 0.247835383\n",
            "Epoch: 0069 cost = 0.247658968\n",
            "Epoch: 0070 cost = 0.247397617\n",
            "Epoch: 0071 cost = 0.247249618\n",
            "Epoch: 0072 cost = 0.247079372\n",
            "Epoch: 0073 cost = 0.246945292\n",
            "Epoch: 0074 cost = 0.246686921\n",
            "Epoch: 0075 cost = 0.246687874\n",
            "Epoch: 0076 cost = 0.246303037\n",
            "Epoch: 0077 cost = 0.246110290\n",
            "Epoch: 0078 cost = 0.246067807\n",
            "Epoch: 0079 cost = 0.245769799\n",
            "Epoch: 0080 cost = 0.245565936\n",
            "Epoch: 0081 cost = 0.245506600\n",
            "Epoch: 0082 cost = 0.245446190\n",
            "Epoch: 0083 cost = 0.245212123\n",
            "Epoch: 0084 cost = 0.244949400\n",
            "Epoch: 0085 cost = 0.244855195\n",
            "Epoch: 0086 cost = 0.244703412\n",
            "Epoch: 0087 cost = 0.244637147\n",
            "Epoch: 0088 cost = 0.244337335\n",
            "Epoch: 0089 cost = 0.244136691\n",
            "Epoch: 0090 cost = 0.244086951\n",
            "Epoch: 0091 cost = 0.243965819\n",
            "Epoch: 0092 cost = 0.243704528\n",
            "Epoch: 0093 cost = 0.243614852\n",
            "Epoch: 0094 cost = 0.243434444\n",
            "Epoch: 0095 cost = 0.243306980\n",
            "Epoch: 0096 cost = 0.243146718\n",
            "Epoch: 0097 cost = 0.243119434\n",
            "Epoch: 0098 cost = 0.243019551\n",
            "Epoch: 0099 cost = 0.242854834\n",
            "Epoch: 0100 cost = 0.242440462\n",
            "Learning finished\n"
          ]
        }
      ]
    },
    {
      "cell_type": "code",
      "source": [
        "# Test the model using test sets\n",
        "with torch.no_grad():\n",
        "    X_test = mnist_test.test_data.view(-1, 28 * 28).float().to(device)\n",
        "    Y_test = mnist_test.test_labels.to(device)\n",
        "\n",
        "    prediction = linear(X_test)\n",
        "    correct_prediction = torch.argmax(prediction, 1) == Y_test\n",
        "    accuracy = correct_prediction.float().mean()\n",
        "    print('Accuracy:', accuracy.item())\n",
        "\n",
        "    # Get one and predict\n",
        "    r = random.randint(0, len(mnist_test) - 1)\n",
        "    X_single_data = mnist_test.test_data[r:r + 1].view(-1, 28 * 28).float().to(device)\n",
        "    Y_single_data = mnist_test.test_labels[r:r + 1].to(device)\n",
        "\n",
        "    print('Label: ', Y_single_data.item())\n",
        "    single_prediction = linear(X_single_data)\n",
        "    print('Prediction: ', torch.argmax(single_prediction, 1).item())\n",
        "\n",
        "    plt.imshow(mnist_test.test_data[r:r + 1].view(28, 28), cmap='Greys', interpolation='nearest')\n",
        "    plt.show()"
      ],
      "metadata": {
        "colab": {
          "base_uri": "https://localhost:8080/",
          "height": 316
        },
        "id": "2W-mXyQxguHn",
        "outputId": "74992b64-ac68-49e9-d3d9-de6fca31803f"
      },
      "execution_count": 41,
      "outputs": [
        {
          "output_type": "stream",
          "name": "stdout",
          "text": [
            "Accuracy: 0.8779000043869019\n",
            "Label:  8\n",
            "Prediction:  3\n"
          ]
        },
        {
          "output_type": "display_data",
          "data": {
            "text/plain": [
              "<Figure size 432x288 with 1 Axes>"
            ],
            "image/png": "[encoded data removed]"
          },
          "metadata": {
            "needs_background": "light"
          }
        }
      ]
    }
  ]
}