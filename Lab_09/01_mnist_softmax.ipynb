{
  "nbformat": 4,
  "nbformat_minor": 0,
  "metadata": {
    "colab": {
      "provenance": [],
      "authorship_tag": "ABX9TyOQUoc6BqobIq9n9HCzlOQ4",
      "include_colab_link": true
    },
    "kernelspec": {
      "name": "python3",
      "display_name": "Python 3"
    },
    "language_info": {
      "name": "python"
    }
  },
  "cells": [
    {
      "cell_type": "markdown",
      "metadata": {
        "id": "view-in-github",
        "colab_type": "text"
      },
      "source": [
        "<a href=\"https://colab.research.google.com/github/minit88/ML-DL/blob/main/Lab_09/01_mnist_softmax.ipynb\" target=\"_parent\"><img src=\"https://colab.research.google.com/assets/colab-badge.svg\" alt=\"Open In Colab\"/></a>"
      ]
    },
    {
      "cell_type": "code",
      "execution_count": 10,
      "metadata": {
        "id": "D1NXAnzbJsYC"
      },
      "outputs": [],
      "source": [
        "import torch\n",
        "import torchvision.datasets as dsets # 이미지 전처리\n",
        "import torchvision.transforms as transforms # 이미지 전처리\n",
        "import random"
      ]
    },
    {
      "cell_type": "code",
      "source": [
        "device = 'cuda' if torch.cuda.is_available() else 'cpu'\n",
        "\n",
        "#for reproducibility\n",
        "random.seed(777)\n",
        "torch.manual_seed(777) # 기본적인 torch.rand() , torch.randint()와 같은 함수들에 대해서 seed적용\n",
        "if device =='cuda':\n",
        "  torch.cuda.manual_seed_all(777) # 현재 GPU를 통해 만들어내는 결과들에 랜덤성을 통제"
      ],
      "metadata": {
        "id": "JuQ-CeVzNmZG"
      },
      "execution_count": 11,
      "outputs": []
    },
    {
      "cell_type": "code",
      "source": [
        "# parameters\n",
        "learning_rate = 0.001\n",
        "training_epochs = 15\n",
        "batch_size = 100"
      ],
      "metadata": {
        "id": "Gp3Blp5sOXpB"
      },
      "execution_count": 12,
      "outputs": []
    },
    {
      "cell_type": "code",
      "source": [
        "# MNIST dataset\n",
        "mnist_train = dsets.MNIST(root='MNIST_data/',\n",
        "                          train=True,\n",
        "                          transform=transforms.ToTensor(),\n",
        "                          download=True)\n",
        "\n",
        "mnist_test = dsets.MNIST(root='MNIST_data/',\n",
        "                         train=False,\n",
        "                         transform=transforms.ToTensor(),\n",
        "                         download=True)\n",
        "# 첫번째 인자root 는 MNIST데이터를 다운 받을 경로 두번째 인자는 train은 인자로 트루를 주면 MNIST훈련 데이터를 리턴받음 FALSE 테스트 데이터 리턴\n",
        "# 세번쨰 인자 transform은 현재 데이터를파이토치 텐서로 변환\n",
        "# 네번째 인자 download는 해당 경로에 MNIST 데이터가 없다면 다운로드 받겠다는 의미"
      ],
      "metadata": {
        "id": "SA37PdxOO3K8"
      },
      "execution_count": 13,
      "outputs": []
    },
    {
      "cell_type": "code",
      "source": [
        "data_loader = torch.utils.data.DataLoader(dataset=mnist_train,batch_size=batch_size,shuffle=True,drop_last=True)\n",
        "# 첫번째 인자는 로드할 대상\n",
        "# 두번쨰 인자는 배치 크기\n",
        "# 세번째 인자는 에폭마다 미니배치를 셔플\n",
        "# 네번째 인자는 마지막 배치를 버릴 것인지"
      ],
      "metadata": {
        "id": "kwkX98FLP8bo"
      },
      "execution_count": 14,
      "outputs": []
    },
    {
      "cell_type": "code",
      "source": [
        "linear = torch.nn.Linear(784,10,bias=True).to(device)\n",
        "# to 함수는 연산을 어디서 수행할지를 정함"
      ],
      "metadata": {
        "id": "m6c2-Sn4ThLz"
      },
      "execution_count": 15,
      "outputs": []
    },
    {
      "cell_type": "code",
      "source": [
        "torch.nn.init.normal_(linear.weight)"
      ],
      "metadata": {
        "colab": {
          "base_uri": "https://localhost:8080/"
        },
        "id": "_YARmBKmTpi-",
        "outputId": "407ef2eb-4791-4389-f0e4-311eaa74b155"
      },
      "execution_count": 16,
      "outputs": [
        {
          "output_type": "execute_result",
          "data": {
            "text/plain": [
              "Parameter containing:\n",
              "tensor([[-0.1953, -0.4404,  0.0139,  ...,  0.7510,  1.5190,  0.9637],\n",
              "        [ 0.4146, -1.0660, -0.9969,  ..., -0.3259, -0.2695, -1.3316],\n",
              "        [ 0.2600, -1.1821,  0.0065,  ...,  1.0648, -1.2251,  0.9841],\n",
              "        ...,\n",
              "        [ 0.0279, -1.7242, -1.1723,  ...,  1.3651, -0.0689, -0.7931],\n",
              "        [ 0.0952,  0.1939,  0.1636,  ..., -1.0489,  0.6224, -1.7181],\n",
              "        [ 2.6504,  0.6297, -1.6571,  ..., -0.0781, -1.1398, -0.8711]],\n",
              "       requires_grad=True)"
            ]
          },
          "metadata": {},
          "execution_count": 16
        }
      ]
    },
    {
      "cell_type": "code",
      "source": [
        "criterion = torch.nn.CrossEntropyLoss().to(device)\n",
        "optimizer = torch.optim.Adam(linear.parameters(),lr=learning_rate)"
      ],
      "metadata": {
        "id": "9uieng17Wc9Q"
      },
      "execution_count": 17,
      "outputs": []
    },
    {
      "cell_type": "code",
      "source": [
        "total_batch = len(data_loader)\n",
        "for epoch in range(training_epochs):\n",
        "  avg_cost = 0\n",
        "\n",
        "  for X,Y in data_loader:\n",
        "    X=X.view(-1,28*28).to(device)\n",
        "    Y=Y.to(device)\n",
        "\n",
        "    hypothesis = linear(X)\n",
        "    cost = criterion(hypothesis,Y)\n",
        "\n",
        "    optimizer.zero_grad()\n",
        "    cost.backward()\n",
        "    optimizer.step()\n",
        "\n",
        "    avg_cost +=cost/total_batch\n",
        "  print('Epoch:', '%04d' % (epoch + 1), 'cost =', '{:.9f}'.format(avg_cost))\n",
        "\n",
        "print('Learning finished')"
      ],
      "metadata": {
        "colab": {
          "base_uri": "https://localhost:8080/"
        },
        "id": "kwU13UuuXrNu",
        "outputId": "72e4215c-0753-4ff3-93ad-451057eb2a51"
      },
      "execution_count": 18,
      "outputs": [
        {
          "output_type": "stream",
          "name": "stdout",
          "text": [
            "Epoch: 0001 cost = 5.728240490\n",
            "Epoch: 0002 cost = 1.562848449\n",
            "Epoch: 0003 cost = 1.036820769\n",
            "Epoch: 0004 cost = 0.828017235\n",
            "Epoch: 0005 cost = 0.710269213\n",
            "Epoch: 0006 cost = 0.633605897\n",
            "Epoch: 0007 cost = 0.577520132\n",
            "Epoch: 0008 cost = 0.535485625\n",
            "Epoch: 0009 cost = 0.502551138\n",
            "Epoch: 0010 cost = 0.476104587\n",
            "Epoch: 0011 cost = 0.453757554\n",
            "Epoch: 0012 cost = 0.435718447\n",
            "Epoch: 0013 cost = 0.420195490\n",
            "Epoch: 0014 cost = 0.406820923\n",
            "Epoch: 0015 cost = 0.394985646\n",
            "Learning finished\n"
          ]
        }
      ]
    },
    {
      "cell_type": "code",
      "source": [
        "# Test the model using test sets\n",
        "with torch.no_grad():\n",
        "    X_test = mnist_test.test_data.view(-1, 28 * 28).float().to(device)\n",
        "    Y_test = mnist_test.test_labels.to(device)\n",
        "\n",
        "    prediction = linear(X_test)\n",
        "    correct_prediction = torch.argmax(prediction, 1) == Y_test\n",
        "    accuracy = correct_prediction.float().mean()\n",
        "    print('Accuracy:', accuracy.item())\n",
        "\n",
        "    # Get one and predict\n",
        "    r = random.randint(0, len(mnist_test) - 1)\n",
        "    X_single_data = mnist_test.test_data[r:r + 1].view(-1, 28 * 28).float().to(device)\n",
        "    Y_single_data = mnist_test.test_labels[r:r + 1].to(device)\n",
        "\n",
        "    print('Label: ', Y_single_data.item())\n",
        "    single_prediction = linear(X_single_data)\n",
        "    print('Prediction: ', torch.argmax(single_prediction, 1).item())"
      ],
      "metadata": {
        "colab": {
          "base_uri": "https://localhost:8080/"
        },
        "id": "9Hg2NAQmXrK-",
        "outputId": "4a4fe71a-4050-4f12-f9f9-32233bfd1979"
      },
      "execution_count": 29,
      "outputs": [
        {
          "output_type": "stream",
          "name": "stdout",
          "text": [
            "Accuracy: 0.891700029373169\n",
            "Label:  5\n",
            "Prediction:  5\n"
          ]
        }
      ]
    }
  ]
}