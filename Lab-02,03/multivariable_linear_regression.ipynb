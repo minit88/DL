{
  "nbformat": 4,
  "nbformat_minor": 0,
  "metadata": {
    "colab": {
      "provenance": [],
      "authorship_tag": "ABX9TyMB0lMNXjBLUzFZqZnCpeOt",
      "include_colab_link": true
    },
    "kernelspec": {
      "name": "python3",
      "display_name": "Python 3"
    },
    "language_info": {
      "name": "python"
    }
  },
  "cells": [
    {
      "cell_type": "markdown",
      "metadata": {
        "id": "view-in-github",
        "colab_type": "text"
      },
      "source": [
        "<a href=\"https://colab.research.google.com/github/minit88/ML-DL/blob/main/Lab-02%2C03/multivariable_linear_regression.ipynb\" target=\"_parent\"><img src=\"https://colab.research.google.com/assets/colab-badge.svg\" alt=\"Open In Colab\"/></a>"
      ]
    },
    {
      "cell_type": "code",
      "source": [
        "import torch\n",
        "import torch.nn as nn\n",
        "import torch.nn.functional as F\n",
        "import torch.optim as optim"
      ],
      "metadata": {
        "id": "wSxrXkM7_B72"
      },
      "execution_count": 16,
      "outputs": []
    },
    {
      "cell_type": "markdown",
      "source": [
        "# **Data definition**"
      ],
      "metadata": {
        "id": "SsIlT_8h_NOa"
      }
    },
    {
      "cell_type": "code",
      "source": [
        "x_train = torch.FloatTensor([[1],[2],[3]])\n",
        "y_train = torch.FloatTensor([[2],[4],[6]])"
      ],
      "metadata": {
        "id": "9q-L-TA5_RHI"
      },
      "execution_count": 8,
      "outputs": []
    },
    {
      "cell_type": "code",
      "source": [
        "W = torch.zeros(1, requires_grad=True) \n",
        "print(W)\n",
        "b = torch.zeros(1, requires_grad=True)\n",
        "print(b)\n"
      ],
      "metadata": {
        "colab": {
          "base_uri": "https://localhost:8080/"
        },
        "id": "tyaburuqAK8S",
        "outputId": "13e6da64-10a2-4374-ef6c-517f89199c27"
      },
      "execution_count": 14,
      "outputs": [
        {
          "output_type": "stream",
          "name": "stdout",
          "text": [
            "tensor([0.], requires_grad=True)\n",
            "tensor([0.], requires_grad=True)\n"
          ]
        }
      ]
    },
    {
      "cell_type": "markdown",
      "source": [
        "# **Gradient descent** "
      ],
      "metadata": {
        "id": "lYplx8T3A15y"
      }
    },
    {
      "cell_type": "code",
      "source": [
        "optimizer = optim.SGD([W,b],lr = 0.01)\n",
        "\n",
        "nb_epochs = 1000\n",
        "for epoch in range(1,nb_epochs +1):\n",
        "  hypothesis = x_train * W + b\n",
        "  cost = torch.mean((hypothesis - y_train) **2)\n",
        "\n",
        "  optimizer.zero_grad()\n",
        "  cost.backward()\n",
        "  optimizer.step()\n",
        "  print(W,b) # 점차 w가 2에 가까워지게 된다"
      ],
      "metadata": {
        "id": "A0qkA1_IBMg_"
      },
      "execution_count": null,
      "outputs": []
    },
    {
      "cell_type": "markdown",
      "source": [
        "# **Full Trainig Code**\n"
      ],
      "metadata": {
        "id": "wwKdXaHtE3R3"
      }
    },
    {
      "cell_type": "code",
      "source": [
        "# 데이터\n",
        "x_train = torch.FloatTensor([[1], [2], [3]])\n",
        "y_train = torch.FloatTensor([[1], [2], [3]])\n",
        "# 모델 초기화\n",
        "W = torch.zeros(1, requires_grad=True)\n",
        "b = torch.zeros(1, requires_grad=True)\n",
        "# optimizer 설정\n",
        "optimizer = optim.SGD([W, b], lr=0.01)\n",
        "\n",
        "nb_epochs = 1000\n",
        "for epoch in range(nb_epochs + 1):\n",
        "    \n",
        "    # H(x) 계산\n",
        "    hypothesis = x_train * W + b\n",
        "    \n",
        "    # cost 계산\n",
        "    cost = torch.mean((hypothesis - y_train) ** 2)\n",
        "\n",
        "    # cost로 H(x) 개선\n",
        "    optimizer.zero_grad()\n",
        "    cost.backward()\n",
        "    optimizer.step()\n",
        "\n",
        "    # 100번마다 로그 출력\n",
        "    if epoch % 100 == 0:\n",
        "        print('Epoch {:4d}/{} W: {:.3f}, b: {:.3f} Cost: {:.6f}'.format(\n",
        "            epoch, nb_epochs, W.item(), b.item(), cost.item()\n",
        "        ))"
      ],
      "metadata": {
        "colab": {
          "base_uri": "https://localhost:8080/"
        },
        "id": "fHwi_94-E8gb",
        "outputId": "48d284c2-56ed-42ae-c8f5-25307bcb7075"
      },
      "execution_count": 20,
      "outputs": [
        {
          "output_type": "stream",
          "name": "stdout",
          "text": [
            "Epoch    0/1000 W: 0.093, b: 0.040 Cost: 4.666667\n",
            "Epoch  100/1000 W: 0.873, b: 0.289 Cost: 0.012043\n",
            "Epoch  200/1000 W: 0.900, b: 0.227 Cost: 0.007442\n",
            "Epoch  300/1000 W: 0.921, b: 0.179 Cost: 0.004598\n",
            "Epoch  400/1000 W: 0.938, b: 0.140 Cost: 0.002842\n",
            "Epoch  500/1000 W: 0.951, b: 0.110 Cost: 0.001756\n",
            "Epoch  600/1000 W: 0.962, b: 0.087 Cost: 0.001085\n",
            "Epoch  700/1000 W: 0.970, b: 0.068 Cost: 0.000670\n",
            "Epoch  800/1000 W: 0.976, b: 0.054 Cost: 0.000414\n",
            "Epoch  900/1000 W: 0.981, b: 0.042 Cost: 0.000256\n",
            "Epoch 1000/1000 W: 0.985, b: 0.033 Cost: 0.000158\n"
          ]
        }
      ]
    },
    {
      "cell_type": "code",
      "source": [
        "# 데이터터\n",
        "x_train = torch.FloatTensor([[1],[2],[3]])\n",
        "x_train = torch.FloatTensor([[1],[2],[3]])\n",
        "# 모델 초기화화\n",
        "W= torch.zeros(1)\n",
        "# Learning rate 설정\n",
        "lr= 0.1\n",
        "\n",
        "nb_epochs = 10\n",
        "for epoch in range(nb_epochs +1):\n",
        "  # H(x)계산\n",
        "  hypothesis = x_train * W\n",
        "\n",
        "  #cost gradient\n",
        "  cost = torch.mean((hypothesis - y_train)**2)\n",
        "  gradient = torch.sum((W*x_train-y_train)*x_train)\n",
        "\n",
        "  print('Epoch {:4d}/{} W: {:.3f},cost:{:.6f}'.format(epoch,nb_epochs,W.item(),cost.item()))\n",
        "\n",
        "  # cost gradient ->H(x)\n",
        "  W-=lr * gradient"
      ],
      "metadata": {
        "colab": {
          "base_uri": "https://localhost:8080/"
        },
        "id": "-Ls3rhWkMg3H",
        "outputId": "dc671a6d-22ec-4664-ade2-5d3b266499fe"
      },
      "execution_count": 24,
      "outputs": [
        {
          "output_type": "stream",
          "name": "stdout",
          "text": [
            "Epoch    0/10 W: 0.000,cost:4.666667\n",
            "Epoch    1/10 W: 1.400,cost:0.746666\n",
            "Epoch    2/10 W: 0.840,cost:0.119467\n",
            "Epoch    3/10 W: 1.064,cost:0.019115\n",
            "Epoch    4/10 W: 0.974,cost:0.003058\n",
            "Epoch    5/10 W: 1.010,cost:0.000489\n",
            "Epoch    6/10 W: 0.996,cost:0.000078\n",
            "Epoch    7/10 W: 1.002,cost:0.000013\n",
            "Epoch    8/10 W: 0.999,cost:0.000002\n",
            "Epoch    9/10 W: 1.000,cost:0.000000\n",
            "Epoch   10/10 W: 1.000,cost:0.000000\n"
          ]
        }
      ]
    }
  ]
}