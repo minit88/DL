{
  "nbformat": 4,
  "nbformat_minor": 0,
  "metadata": {
    "colab": {
      "provenance": [],
      "authorship_tag": "ABX9TyOI51CK/wwjRN2L63p3EL23",
      "include_colab_link": true
    },
    "kernelspec": {
      "name": "python3",
      "display_name": "Python 3"
    },
    "language_info": {
      "name": "python"
    }
  },
  "cells": [
    {
      "cell_type": "markdown",
      "metadata": {
        "id": "view-in-github",
        "colab_type": "text"
      },
      "source": [
        "<a href=\"https://colab.research.google.com/github/minit88/ML-DL/blob/main/Lab11/1_RNN_basics.ipynb\" target=\"_parent\"><img src=\"https://colab.research.google.com/assets/colab-badge.svg\" alt=\"Open In Colab\"/></a>"
      ]
    },
    {
      "cell_type": "code",
      "execution_count": 10,
      "metadata": {
        "id": "G1tT9jtSqEpY"
      },
      "outputs": [],
      "source": [
        "# RNN은 sequential data를 다루기 위해 사용\n",
        "# sequential data는 데이터 값 뿐만 아니라 데이터 순서도도 중요시 하는 데이터\n",
        "# hello 라는 단어를 예로들면, 이 순서가 단어의 의미를 형성\n",
        "# 출력된 값이 다음 값으로 전달되지 않는 게 hidden state\n",
        "# 그 전의 입력결과를 다음 처리할 때 반영하게 된다\n",
        "# 모든 셀이 파라미터를 공유한다.\n",
        "\n",
        "# Usages of RNN\n",
        "# one to many : (ex)하나의 이미지로 부터 여러개의 문장의 출력\n",
        "# many to one : (ex) 여러 개의 문장으로부터 하나의 감정레이블을 출력\n",
        "# many to many(비대칭) : (ex) 번역테스크 즉, 한문장을 다 보고 새로운 문장을 쓰기 시작하는 거\n",
        "# many to many (대칭) : 이미지가 들어갈 때마다 출력값이 나옴"
      ]
    },
    {
      "cell_type": "code",
      "source": [
        "# rnn = torch.nn.RNN(input_size , hidden_size)\n",
        "# outputs,_status = rnn(input_data)\n",
        "# input_data 는 shape이 세개로 정의가 된다 ( )\n",
        "# hello 가 인풋이면 'h','e','l','o' -> input_size(batch_size,sequence length,4)\n"
      ],
      "metadata": {
        "id": "cTlIyiVZvdga"
      },
      "execution_count": 11,
      "outputs": []
    },
    {
      "cell_type": "code",
      "source": [
        "import torch\n",
        "import numpy as np"
      ],
      "metadata": {
        "id": "o0k5-SDT4Bdk"
      },
      "execution_count": 12,
      "outputs": []
    },
    {
      "cell_type": "code",
      "source": [
        "torch.manual_seed(0)"
      ],
      "metadata": {
        "colab": {
          "base_uri": "https://localhost:8080/"
        },
        "id": "j3XIC5-L4Fua",
        "outputId": "440827b0-0b38-4e31-9b3b-fc1cfdcceb83"
      },
      "execution_count": 13,
      "outputs": [
        {
          "output_type": "execute_result",
          "data": {
            "text/plain": [
              "<torch._C.Generator at 0x7f3797943950>"
            ]
          },
          "metadata": {},
          "execution_count": 13
        }
      ]
    },
    {
      "cell_type": "code",
      "source": [
        "input_size = 4\n",
        "hidden_size = 2"
      ],
      "metadata": {
        "id": "xGAiWinH4IFt"
      },
      "execution_count": 14,
      "outputs": []
    },
    {
      "cell_type": "code",
      "source": [
        "# singleton example\n",
        "# shape : (1, 1, 4)\n",
        "# input_data_np = np.array([[[1, 0, 0, 0]]])\n",
        "\n",
        "# sequential example\n",
        "# shape : (3, 5, 4)\n",
        "h = [1, 0, 0, 0]\n",
        "e = [0, 1, 0, 0]\n",
        "l = [0, 0, 1, 0]\n",
        "o = [0, 0, 0, 1]\n",
        "input_data_np = np.array([[h, e, l, l, o], [e, o, l, l, l], [l, l, e, e, l]], dtype=np.float32)"
      ],
      "metadata": {
        "id": "qyy9kx-H4NbJ"
      },
      "execution_count": 15,
      "outputs": []
    },
    {
      "cell_type": "code",
      "source": [
        "input_data = torch.Tensor(input_data_np)"
      ],
      "metadata": {
        "id": "9usRh5714il2"
      },
      "execution_count": 16,
      "outputs": []
    },
    {
      "cell_type": "code",
      "source": [
        "# declare RNN\n",
        "\n",
        "rnn = torch.nn.RNN(input_size,hidden_size)"
      ],
      "metadata": {
        "id": "WoctSWeY4rH8"
      },
      "execution_count": 17,
      "outputs": []
    },
    {
      "cell_type": "code",
      "source": [
        "# check output\n",
        "outputs,_status = rnn(input_data)\n",
        "print(outputs)\n",
        "print(outputs.size())"
      ],
      "metadata": {
        "colab": {
          "base_uri": "https://localhost:8080/"
        },
        "id": "J9vL71Mn4wCA",
        "outputId": "164957e1-4a20-43b3-d3a3-4299f496d601"
      },
      "execution_count": 18,
      "outputs": [
        {
          "output_type": "stream",
          "name": "stdout",
          "text": [
            "tensor([[[-0.7497, -0.6135],\n",
            "         [-0.5282, -0.2473],\n",
            "         [-0.9136, -0.4269],\n",
            "         [-0.9136, -0.4269],\n",
            "         [-0.9028,  0.1180]],\n",
            "\n",
            "        [[-0.5753, -0.0070],\n",
            "         [-0.9052,  0.2597],\n",
            "         [-0.9173, -0.1989],\n",
            "         [-0.9173, -0.1989],\n",
            "         [-0.8996, -0.2725]],\n",
            "\n",
            "        [[-0.9077, -0.3205],\n",
            "         [-0.8944, -0.2902],\n",
            "         [-0.5134, -0.0288],\n",
            "         [-0.5134, -0.0288],\n",
            "         [-0.9127, -0.2222]]], grad_fn=<StackBackward0>)\n",
            "torch.Size([3, 5, 2])\n"
          ]
        }
      ]
    }
  ]
}